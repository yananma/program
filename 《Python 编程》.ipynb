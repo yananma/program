{
 "cells": [
  {
   "cell_type": "markdown",
   "metadata": {},
   "source": [
    "# 第3章 列表 \n",
    "\n",
    "列表可以修改、添加、删除元素\n",
    "\n",
    "修改元素，重新赋值就行\n",
    "\n",
    "添加元素，可以用 append 和 insert. append 末尾添加，insert 任意位置添加。\n",
    "\n",
    "删除元素，可以用 del、pop 和 remove. del 按位置删除，pop 删除末尾元素，remove 按名称删除。 \n",
    "\n",
    "排序可以用 sort、sorted 和 reverse. \n",
    "sort 按字母顺序，永久排序，设置 reverse=True 按字母反向排序，sorted 临时排序，reverse 逆向排序。\n",
    "\n"
   ]
  },
  {
   "cell_type": "code",
   "execution_count": null,
   "metadata": {},
   "outputs": [],
   "source": []
  },
  {
   "cell_type": "markdown",
   "metadata": {},
   "source": [
    "# 第4章 操作列表 \n",
    "\n",
    "遍历列表，可以处理大量数据。百万千万。可以消除大量重复性工作。\n",
    "\n",
    "遍历列表，用的是 for 循环，可以取到列表中的每一个元素，然后对所有元素进行相同的操作。 \n",
    "\n"
   ]
  },
  {
   "cell_type": "code",
   "execution_count": null,
   "metadata": {},
   "outputs": [],
   "source": []
  },
  {
   "cell_type": "markdown",
   "metadata": {},
   "source": [
    "# 第5章 if语句 \n",
    "\n",
    "用 for 循环批量处理大多数元素，用 if 语句处理包含某种特性的元素，以应对特殊情形。 \n",
    "\n",
    "检查是否相等 ==；是否不等 !=；在列表中 in；不再列表中 not in；检查多个条件，全部都要满足 and；至少一个满足 or\n",
    "\n",
    "if 语句，如果最后判断为 True，就 if 的执行代码，如果为 False，就不执行，就当没有 if 这一段。"
   ]
  },
  {
   "cell_type": "code",
   "execution_count": null,
   "metadata": {},
   "outputs": [],
   "source": []
  },
  {
   "cell_type": "markdown",
   "metadata": {},
   "source": [
    "# 第6章 字典\n",
    "\n",
    "\n",
    "字典，处理相关的信息。 \n",
    "\n",
    "字典就是键值对，可以通过键访问相关联的值。\n",
    "\n",
    "可以添加、修改、删除字典内键值对。\n",
    "<br> \n",
    "\n",
    "\n",
    "遍历所有  \n",
    "for key, value in 字典.items():  \n",
    "<br> \n",
    "遍历键  \n",
    "for key in 字典.keys():  \n",
    "可以用 sorted 函数获取特定顺序字典。  \n",
    "for key in sorted(字典.keys()):  \n",
    "<br> \n",
    "遍历值   \n",
    "for value in 字典.values():  \n",
    "\n",
    "列表存储在字典中，或字典存储在列表中。嵌套是一项强大的功能。"
   ]
  },
  {
   "cell_type": "code",
   "execution_count": null,
   "metadata": {},
   "outputs": [],
   "source": []
  },
  {
   "cell_type": "markdown",
   "metadata": {},
   "source": [
    "% 余数 \n",
    "\n",
    "## 7.2 while 循环\n",
    "\n",
    "不知道次数用 while 循环。比如用户输入退出以后退出，比如子弹打到飞船上以后，游戏结束。不知道次数。"
   ]
  },
  {
   "cell_type": "code",
   "execution_count": null,
   "metadata": {},
   "outputs": [],
   "source": []
  },
  {
   "cell_type": "markdown",
   "metadata": {},
   "source": [
    "## 8 函数，实现代码复用\n",
    "\n",
    "### 8.1.2 实参和形参 \n",
    "\n",
    "实参是具体的，比如 Jack 就是一个具体的名字，username 就是形参。"
   ]
  },
  {
   "cell_type": "code",
   "execution_count": 5,
   "metadata": {},
   "outputs": [
    {
     "name": "stdout",
     "output_type": "stream",
     "text": [
      "Hello, Jack!\n"
     ]
    }
   ],
   "source": [
    "def greet_user(username): \n",
    "    print(\"Hello, \" + username.title() + \"!\")\n",
    "    \n",
    "greet_user('Jack')"
   ]
  },
  {
   "cell_type": "markdown",
   "metadata": {},
   "source": [
    "### 8.2.1 位置实参 \n",
    "\n",
    "调用函数时，每个实参都关联到函数中的一个形参，最简单的方式就是基于顺序，这种关联方式称为位置实参。 \n",
    "\n",
    "位置实参顺序很重要。  \n",
    "\n",
    "### 8.2.2 关键字实参  \n",
    "\n",
    "关键字实参，不用考虑顺序，还可以清楚地表明传入的值得用途。\n",
    "\n",
    "### 8.2.3 默认值  \n",
    "\n",
    "编写函数时，给形参指定默认值，传入值用传入的实参，没有传入，就用默认值。可以简化调用，还可以指出典型用法。 \n",
    "\n"
   ]
  },
  {
   "cell_type": "markdown",
   "metadata": {},
   "source": [
    "读 traceback，先说在第几行位置，然后是问题具体是哪个，然后是错误类型。 "
   ]
  },
  {
   "cell_type": "code",
   "execution_count": null,
   "metadata": {},
   "outputs": [],
   "source": []
  },
  {
   "cell_type": "markdown",
   "metadata": {},
   "source": [
    "# 第8章和第9章还是以查书为主。"
   ]
  },
  {
   "cell_type": "code",
   "execution_count": null,
   "metadata": {},
   "outputs": [],
   "source": []
  }
 ],
 "metadata": {
  "kernelspec": {
   "display_name": "Python 3",
   "language": "python",
   "name": "python3"
  },
  "language_info": {
   "codemirror_mode": {
    "name": "ipython",
    "version": 3
   },
   "file_extension": ".py",
   "mimetype": "text/x-python",
   "name": "python",
   "nbconvert_exporter": "python",
   "pygments_lexer": "ipython3",
   "version": "3.8.3"
  }
 },
 "nbformat": 4,
 "nbformat_minor": 4
}
