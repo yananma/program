{
  "nbformat": 4,
  "nbformat_minor": 0,
  "metadata": {
    "colab": {
      "name": "Linear Regression.ipynb",
      "provenance": [],
      "include_colab_link": true
    },
    "kernelspec": {
      "name": "python3",
      "display_name": "Python 3"
    }
  },
  "cells": [
    {
      "cell_type": "markdown",
      "metadata": {
        "id": "view-in-github",
        "colab_type": "text"
      },
      "source": [
        "<a href=\"https://colab.research.google.com/github/yananma/useful_program/blob/master/DL/PyTorch/Linear_Regression.ipynb\" target=\"_parent\"><img src=\"https://colab.research.google.com/assets/colab-badge.svg\" alt=\"Open In Colab\"/></a>"
      ]
    },
    {
      "cell_type": "markdown",
      "metadata": {
        "id": "V9IPfQAY060r",
        "colab_type": "text"
      },
      "source": [
        "## Linear Regression"
      ]
    },
    {
      "cell_type": "code",
      "metadata": {
        "id": "B3FMjjUT2nGW",
        "colab_type": "code",
        "colab": {}
      },
      "source": [
        "import torch \n",
        "import torch.nn as nn \n",
        "import numpy as np \n",
        "import matplotlib.pyplot as plt \n",
        "%matplotlib inline "
      ],
      "execution_count": 0,
      "outputs": []
    },
    {
      "cell_type": "code",
      "metadata": {
        "id": "jU_K7V1iTGRW",
        "colab_type": "code",
        "colab": {}
      },
      "source": [
        "# Hyper parameters \n",
        "input_size = 1 \n",
        "output_size = 1 \n",
        "num_epochs = 3000 \n",
        "learning_rate = 0.001 "
      ],
      "execution_count": 0,
      "outputs": []
    },
    {
      "cell_type": "code",
      "metadata": {
        "id": "baOX7sJaTeaG",
        "colab_type": "code",
        "colab": {}
      },
      "source": [
        "# data \n",
        "x = np.random.rand(256)\n",
        "noise = np.random.randn(256) / 4 \n",
        "y = 5 * x + 7 + noise\n",
        "\n",
        "x_train = x.reshape(-1, 1).astype('float32')\n",
        "y_train = y.reshape(-1, 1).astype('float32')"
      ],
      "execution_count": 0,
      "outputs": []
    },
    {
      "cell_type": "code",
      "metadata": {
        "id": "3kkyK8JeViq4",
        "colab_type": "code",
        "colab": {}
      },
      "source": [
        "# model\n",
        "model = nn.Linear(input_size, output_size)"
      ],
      "execution_count": 0,
      "outputs": []
    },
    {
      "cell_type": "code",
      "metadata": {
        "id": "IemdI7vdVnG_",
        "colab_type": "code",
        "colab": {}
      },
      "source": [
        "# loss and optimizer \n",
        "criterion = nn.MSELoss()\n",
        "optimizer = torch.optim.SGD(model.parameters(), lr=learning_rate)"
      ],
      "execution_count": 0,
      "outputs": []
    },
    {
      "cell_type": "code",
      "metadata": {
        "id": "sY_sDq7xV6Sw",
        "colab_type": "code",
        "colab": {
          "base_uri": "https://localhost:8080/",
          "height": 544
        },
        "outputId": "a5f3b2dd-f548-4f93-bf12-0d54e098cb9b"
      },
      "source": [
        "# train \n",
        "loss_dict = []\n",
        "for epoch in range(num_epochs):\n",
        "    inputs = torch.from_numpy(x_train)\n",
        "    targets = torch.from_numpy(y_train)\n",
        "\n",
        "    # forward pass\n",
        "    outputs = model(inputs)\n",
        "    loss = criterion(outputs, targets)\n",
        "\n",
        "    # backward and oprimize\n",
        "    optimizer.zero_grad()\n",
        "    loss.backward()\n",
        "    optimizer.step()\n",
        "\n",
        "    loss_dict.append(loss.item())\n",
        "    if (epoch+1) % 100 == 0:\n",
        "        print('Epoch [{}/{}], Loss: {:.4f}'.format(epoch+1, num_epochs, loss.item()))"
      ],
      "execution_count": 6,
      "outputs": [
        {
          "output_type": "stream",
          "text": [
            "Epoch [100/3000], Loss: 52.9107\n",
            "Epoch [200/3000], Loss: 31.2525\n",
            "Epoch [300/3000], Loss: 18.4709\n",
            "Epoch [400/3000], Loss: 10.9278\n",
            "Epoch [500/3000], Loss: 6.4762\n",
            "Epoch [600/3000], Loss: 3.8491\n",
            "Epoch [700/3000], Loss: 2.2988\n",
            "Epoch [800/3000], Loss: 1.3838\n",
            "Epoch [900/3000], Loss: 0.8438\n",
            "Epoch [1000/3000], Loss: 0.5251\n",
            "Epoch [1100/3000], Loss: 0.3371\n",
            "Epoch [1200/3000], Loss: 0.2261\n",
            "Epoch [1300/3000], Loss: 0.1606\n",
            "Epoch [1400/3000], Loss: 0.1219\n",
            "Epoch [1500/3000], Loss: 0.0991\n",
            "Epoch [1600/3000], Loss: 0.0856\n",
            "Epoch [1700/3000], Loss: 0.0776\n",
            "Epoch [1800/3000], Loss: 0.0729\n",
            "Epoch [1900/3000], Loss: 0.0701\n",
            "Epoch [2000/3000], Loss: 0.0685\n",
            "Epoch [2100/3000], Loss: 0.0675\n",
            "Epoch [2200/3000], Loss: 0.0669\n",
            "Epoch [2300/3000], Loss: 0.0666\n",
            "Epoch [2400/3000], Loss: 0.0664\n",
            "Epoch [2500/3000], Loss: 0.0663\n",
            "Epoch [2600/3000], Loss: 0.0662\n",
            "Epoch [2700/3000], Loss: 0.0661\n",
            "Epoch [2800/3000], Loss: 0.0661\n",
            "Epoch [2900/3000], Loss: 0.0661\n",
            "Epoch [3000/3000], Loss: 0.0660\n"
          ],
          "name": "stdout"
        }
      ]
    },
    {
      "cell_type": "code",
      "metadata": {
        "id": "4IxstNA1W_Ng",
        "colab_type": "code",
        "outputId": "a2933184-d511-4b78-cf69-3a9dc749f083",
        "colab": {
          "base_uri": "https://localhost:8080/",
          "height": 34
        }
      },
      "source": [
        "[w, b] = model.parameters()\n",
        "print(w.item(), b.item())"
      ],
      "execution_count": 7,
      "outputs": [
        {
          "output_type": "stream",
          "text": [
            "4.941791534423828 7.05049991607666\n"
          ],
          "name": "stdout"
        }
      ]
    },
    {
      "cell_type": "code",
      "metadata": {
        "id": "FFCAgAt0XJ6w",
        "colab_type": "code",
        "outputId": "cbf07253-3329-45f1-fdc8-7c4ec86947d5",
        "colab": {
          "base_uri": "https://localhost:8080/",
          "height": 269
        }
      },
      "source": [
        "# plot\n",
        "predicted = model(torch.from_numpy(x_train)).detach().numpy()\n",
        "plt.plot(x_train, y_train, 'bo', label='Orignial data', alpha=0.3)\n",
        "plt.plot(x_train, predicted, label='Fitted line')\n",
        "plt.legend()\n",
        "plt.show()"
      ],
      "execution_count": 8,
      "outputs": [
        {
          "output_type": "display_data",
          "data": {
            "image/png": "[encoded data removed]",
            "text/plain": [
              "<Figure size 432x288 with 1 Axes>"
            ]
          },
          "metadata": {
            "tags": []
          }
        }
      ]
    },
    {
      "cell_type": "code",
      "metadata": {
        "id": "IytPRNY0hOqN",
        "colab_type": "code",
        "colab": {
          "base_uri": "https://localhost:8080/",
          "height": 269
        },
        "outputId": "e3bcf643-d3e7-4456-95bf-b4b25e6b6ea9"
      },
      "source": [
        "plt.plot(loss_dict, label='loss for every epoch')\n",
        "plt.legend()\n",
        "plt.show()"
      ],
      "execution_count": 9,
      "outputs": [
        {
          "output_type": "display_data",
          "data": {
            "image/png": "[encoded data removed]",
            "text/plain": [
              "<Figure size 432x288 with 1 Axes>"
            ]
          },
          "metadata": {
            "tags": []
          }
        }
      ]
    },
    {
      "cell_type": "code",
      "metadata": {
        "id": "vxRhtphOXrpw",
        "colab_type": "code",
        "colab": {}
      },
      "source": [
        "# save the model checkpoint\n",
        "torch.save(model.state_dict(), 'model.ckpt')"
      ],
      "execution_count": 0,
      "outputs": []
    }
  ]
}